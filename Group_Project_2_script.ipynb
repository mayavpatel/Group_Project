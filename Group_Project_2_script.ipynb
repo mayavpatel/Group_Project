{
  "cells": [
    {
      "cell_type": "markdown",
      "metadata": {
        "id": "FibW1Eb1p2E7"
      },
      "source": [
        "## Import necessary sequences and packages\n",
        "\n",
        "### Migratory locust real genome (chromosome 1) is aquired from https://www.ncbi.nlm.nih.gov/nuccore/CM048744.1?report=genbank"
      ]
    },
    {
      "cell_type": "code",
      "execution_count": 15,
      "metadata": {
        "id": "xTnvVQsKn3He"
      },
      "outputs": [],
      "source": [
        "import numpy as np\n",
        "import re\n",
        "\n",
        "# Specify the file path of the fasta file\n",
        "file_path = 'chromosome1long.fasta'\n",
        "\n",
        "# Read the content of the fasta file\n",
        "with open(file_path, 'r') as file:\n",
        "  chromosome1 = file.read()\n",
        "\n",
        "# Specify the desired length\n",
        "desired_length = 30000000\n",
        "\n",
        "# Truncate the chromosome1 sequence to the desired length\n",
        "chromosome1 = chromosome1[:desired_length]"
      ]
    },
    {
      "cell_type": "markdown",
      "metadata": {
        "id": "qxb5_nTa1mPK"
      },
      "source": [
        "## Search for matches of our motif within a genome\n",
        "\n",
        "#### Our motif is AGGTTCGAG[A/T]CCT"
      ]
    },
    {
      "cell_type": "code",
      "execution_count": 17,
      "metadata": {
        "colab": {
          "base_uri": "https://localhost:8080/"
        },
        "id": "KXrmMzz5ujJQ",
        "outputId": "00705dc8-72b2-4df3-f089-2662e86e7f3f"
      },
      "outputs": [
        {
          "output_type": "stream",
          "name": "stdout",
          "text": [
            "Total motifs found: 150\n",
            "\n",
            "A 1.0\n",
            "T 0.0\n",
            "C 0.0\n",
            "G 0.0\n",
            "\n",
            "A 0.0\n",
            "T 0.0\n",
            "C 0.0\n",
            "G 1.0\n",
            "\n",
            "A 0.0\n",
            "T 0.0\n",
            "C 0.0\n",
            "G 1.0\n",
            "\n",
            "A 0.0\n",
            "T 1.0\n",
            "C 0.0\n",
            "G 0.0\n",
            "\n",
            "A 0.0\n",
            "T 1.0\n",
            "C 0.0\n",
            "G 0.0\n",
            "\n",
            "A 0.0\n",
            "T 0.0\n",
            "C 1.0\n",
            "G 0.0\n",
            "\n",
            "A 0.0\n",
            "T 0.0\n",
            "C 0.0\n",
            "G 1.0\n",
            "\n",
            "A 1.0\n",
            "T 0.0\n",
            "C 0.0\n",
            "G 0.0\n",
            "\n",
            "A 0.0\n",
            "T 0.0\n",
            "C 0.0\n",
            "G 1.0\n",
            "\n",
            "A 0.006666666666666667\n",
            "T 0.9933333333333333\n",
            "C 0.0\n",
            "G 0.0\n",
            "\n",
            "A 0.0\n",
            "T 0.0\n",
            "C 1.0\n",
            "G 0.0\n",
            "\n",
            "A 0.0\n",
            "T 0.0\n",
            "C 1.0\n",
            "G 0.0\n",
            "\n",
            "A 0.0\n",
            "T 1.0\n",
            "C 0.0\n",
            "G 0.0\n",
            "\n",
            "30000000\n"
          ]
        }
      ],
      "source": [
        "########################################\n",
        "# Definition identifies AGGTTCGAG[A/T]CCT matches within a chromosomal genome\n",
        "# Definition outputs the total occurrences of the motif within the genome and\n",
        "#   the base frequency at each index position for all identified motifs\n",
        "#########################################\n",
        "def motifMatching(sequenceData):\n",
        "    pattern = 'AGGTTCGAG[AT]CCT'\n",
        "    motifCount = 0\n",
        "    motifList = []\n",
        "\n",
        "    for match in re.findall(pattern, sequenceData):\n",
        "        motifCount += 1\n",
        "        motifList.append(match)\n",
        "\n",
        "    print(\"Total motifs found:\", motifCount)\n",
        "\n",
        "    if motifList:  # Check if motifList is not empty\n",
        "        print()\n",
        "        for i in range(len(motifList[0])):\n",
        "            base_counts = {'A': 0, 'T': 0, 'C': 0, 'G': 0}\n",
        "            for j in motifList:\n",
        "                base = j[i]\n",
        "                base_counts[base] += 1\n",
        "            for k, v in base_counts.items():\n",
        "                print(k, v / motifCount)\n",
        "            print()\n",
        "    else:\n",
        "        print(\"No motifs found in the sequence.\")\n",
        "\n",
        "# Implement motifMatching definition for chromosome 1\n",
        "motifMatching(chromosome1)\n",
        "#####\n",
        "# output for chromosome 1 shows 739 occurrences;\n",
        "# frequency of T is 0.9899749373433584 and frequency of A is 0.010025062656641603 in variable position 10 (index 9)\n",
        "#####\n",
        "\n",
        "print(len(chromosome1))"
      ]
    },
    {
      "cell_type": "markdown",
      "metadata": {
        "id": "re69Qk1R3lkj"
      },
      "source": [
        "## Multiple Simulations\n",
        "\n",
        "### Identify base frequency in real genome"
      ]
    },
    {
      "cell_type": "code",
      "execution_count": 18,
      "metadata": {
        "colab": {
          "base_uri": "https://localhost:8080/"
        },
        "id": "hwpcvCpy17EO",
        "outputId": "0b8f9009-7a17-4730-8c3d-9c67fd18992b"
      },
      "outputs": [
        {
          "output_type": "stream",
          "name": "stdout",
          "text": [
            "{'A': 0.27973776666666667, 'T': 0.278939, 'C': 0.21551656666666666, 'G': 0.21170223333333332}\n"
          ]
        }
      ],
      "source": [
        "########################################\n",
        "# Definition that returns the base frequencies from a chromosomal genome as a dictionary\n",
        "#########################################\n",
        "def calculateBaseFreq(genome):\n",
        "  base_counts = {'A':0,'T':0,'C':0,'G':0}\n",
        "  genome_length = len(genome)\n",
        "  for base in genome:\n",
        "    if base in base_counts:\n",
        "      base_counts[base] += 1\n",
        "  fractions = {base: base_counts[base]/genome_length for base in base_counts}\n",
        "  return fractions\n",
        "\n",
        "# Implement calculateBaseFreq definition for chromosome 1\n",
        "baseContent = calculateBaseFreq(chromosome1)\n",
        "print(baseContent)\n",
        "\n",
        "#####\n",
        "# output for chromosome 1 shows dictionary: {'A': 0.27973776666666667, 'T': 0.278939, 'C': 0.21551656666666666, 'G': 0.21170223333333332}\n",
        "#####"
      ]
    },
    {
      "cell_type": "markdown",
      "metadata": {
        "id": "b3rCvA0_3wWH"
      },
      "source": [
        "### Simulated genomes"
      ]
    },
    {
      "cell_type": "code",
      "execution_count": 19,
      "metadata": {
        "id": "NyT3XOMk3v3p",
        "colab": {
          "base_uri": "https://localhost:8080/"
        },
        "outputId": "5ce22f90-68c3-4b2b-a5b1-20906b732808"
      },
      "outputs": [
        {
          "output_type": "stream",
          "name": "stdout",
          "text": [
            "{'A': 0.2838617666666667, 'T': 0.2828540333333333, 'C': 0.21862656666666666, 'G': 0.21465763333333332}\n"
          ]
        }
      ],
      "source": [
        "########################################\n",
        "# Definition to simulate sequence data with base frequencies similar to the observed data\n",
        "#########################################\n",
        "def simulateGenome(genome):\n",
        "  baseDict = calculateBaseFreq(genome)\n",
        "  genomeLength = len(genome)\n",
        "  states = []\n",
        "  baseFreq = []\n",
        "  for k,v in baseDict.items():\n",
        "    states.append(k)\n",
        "    baseFreq.append(v)\n",
        "  total_prob = sum(baseFreq)\n",
        "  baseFreq = [prob / total_prob for prob in baseFreq]\n",
        "  draft_seq = np.random.choice(states, genomeLength, p=baseFreq)\n",
        "  return ''.join(draft_seq)\n",
        "\n",
        "# Implement simulateGenome definition for chromosome 1\n",
        "newGenome = simulateGenome(chromosome1)\n",
        "SimGenomebaseContent = calculateBaseFreq(newGenome)\n",
        "print (SimGenomebaseContent)"
      ]
    },
    {
      "cell_type": "markdown",
      "metadata": {
        "id": "3IVy385f6Phn"
      },
      "source": [
        "## Examine our motif in the simulated genome"
      ]
    },
    {
      "cell_type": "code",
      "execution_count": 47,
      "metadata": {
        "colab": {
          "base_uri": "https://localhost:8080/"
        },
        "id": "5_3p3_pM7khK",
        "outputId": "1ca76984-5c3a-46d2-d249-8c18d4a6dbf4"
      },
      "outputs": [
        {
          "output_type": "stream",
          "name": "stdout",
          "text": [
            "The probability of the motif occuring in a 30 million nucleotide sequence is 0.65\n"
          ]
        }
      ],
      "source": [
        "########################################\n",
        "# Definition to find the mean number of motifs across a set of 20 simulated genomes\n",
        "#########################################\n",
        "import re\n",
        "\n",
        "def meanMotif(observedgenome):\n",
        "    pattern = 'AGGTTCGAG[AT]CCT'\n",
        "    motifCount = 0\n",
        "\n",
        "    for x in range(20):\n",
        "        simGenome = simulateGenome(observedgenome)\n",
        "\n",
        "        for my_match in re.findall(pattern, simGenome):\n",
        "            motifCount += 1\n",
        "\n",
        "    print(\"The probability of the motif occuring in a 30 million nucleotide sequence is\", (motifCount / 20))\n",
        "\n",
        "# Find the mean number of motifs across simulated genomes of chromosome1\n",
        "meanMotif(chromosome1)"
      ]
    },
    {
      "cell_type": "markdown",
      "metadata": {
        "id": "m0RBiyYBJtU0"
      },
      "source": [
        "## Identifying protein binding sites\n",
        "\n",
        "### Biologically relevant landmark is Transcription Start Site"
      ]
    },
    {
      "cell_type": "code",
      "execution_count": 43,
      "metadata": {
        "id": "qCSjChG8JyFt",
        "colab": {
          "base_uri": "https://localhost:8080/"
        },
        "outputId": "2ec2cf30-c7b9-49cd-ff70-ddd13a0f0e0f"
      },
      "outputs": [
        {
          "output_type": "stream",
          "name": "stdout",
          "text": [
            "Transcription Start Site: 22078811\n",
            "Total motifs found to the left of TSS: 150\n"
          ]
        }
      ],
      "source": [
        "import re\n",
        "\n",
        "## Find the Transcription start site in a genome\n",
        "def find_pattern(sequence, pattern):\n",
        "    index = sequence.find(pattern)\n",
        "    print(\"Transcription Start Site:\", index)\n",
        "\n",
        "## TSS for chromosome 1\n",
        "pattern = \"ACTTCGCTGGG\"\n",
        "TSS = find_pattern(chromosome1, pattern)\n",
        "\n",
        "########################################\n",
        "# Definition to find motif occurences upstream of transcription start site\n",
        "#########################################\n",
        "\n",
        "def motifMatchingLeftOfTSS(sequenceData, TSS_position):\n",
        "    pattern = 'AGGTTCGAG[AT]CCT'\n",
        "    motifCount = 0\n",
        "\n",
        "    # Extract the substring before the TSS position\n",
        "    sequence_before_TSS = sequenceData[:TSS]\n",
        "\n",
        "    # Find all matches of the pattern in the sequence before the TSS\n",
        "    for match in re.finditer(pattern, sequence_before_TSS):\n",
        "        motifCount += 1\n",
        "\n",
        "    print(\"Total motifs found to the left of TSS:\", motifCount)\n",
        "\n",
        "motifMatchingLeftOfTSS(chromosome1, TSS_position)"
      ]
    }
  ],
  "metadata": {
    "colab": {
      "provenance": []
    },
    "kernelspec": {
      "display_name": "Python 3",
      "name": "python3"
    },
    "language_info": {
      "name": "python"
    }
  },
  "nbformat": 4,
  "nbformat_minor": 0
}